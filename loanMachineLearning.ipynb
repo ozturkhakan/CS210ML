{
 "cells": [
  {
   "cell_type": "code",
   "execution_count": 1,
   "metadata": {},
   "outputs": [],
   "source": [
    "import matplotlib.pyplot as plt\n",
    "from scipy import stats\n",
    "from datetime import datetime\n",
    "import seaborn as sns  # a visualization library based on matplotlib\n",
    "from datetime import datetime\n",
    "import warnings\n",
    "warnings.filterwarnings('ignore')\n",
    "sns.set(style=\"darkgrid\")\n",
    "%matplotlib inline\n",
    "import pandas as pd\n",
    "import numpy as np\n",
    "from os.path import join\n",
    "from pprint import pprint\n",
    "\n",
    "\n",
    "d_file = \"loan.csv\"\n",
    "\n",
    "df = pd.read_csv(join(d_file))\n",
    "\n"
   ]
  },
  {
   "cell_type": "markdown",
   "metadata": {},
   "source": [
    "In this project we are going to try to predict credit subgrades of people according to their financial feautures.For that we are going to use \"Lender's Club\" credit data which is a real life data that includes real people's financial information.\n",
    "First for getting to know the dataset we need to see head of the dataset."
   ]
  },
  {
   "cell_type": "code",
   "execution_count": 2,
   "metadata": {},
   "outputs": [
    {
     "data": {
      "text/html": [
       "<div>\n",
       "<style scoped>\n",
       "    .dataframe tbody tr th:only-of-type {\n",
       "        vertical-align: middle;\n",
       "    }\n",
       "\n",
       "    .dataframe tbody tr th {\n",
       "        vertical-align: top;\n",
       "    }\n",
       "\n",
       "    .dataframe thead th {\n",
       "        text-align: right;\n",
       "    }\n",
       "</style>\n",
       "<table border=\"1\" class=\"dataframe\">\n",
       "  <thead>\n",
       "    <tr style=\"text-align: right;\">\n",
       "      <th></th>\n",
       "      <th>id</th>\n",
       "      <th>member_id</th>\n",
       "      <th>loan_amnt</th>\n",
       "      <th>funded_amnt</th>\n",
       "      <th>funded_amnt_inv</th>\n",
       "      <th>term</th>\n",
       "      <th>int_rate</th>\n",
       "      <th>installment</th>\n",
       "      <th>grade</th>\n",
       "      <th>sub_grade</th>\n",
       "      <th>...</th>\n",
       "      <th>hardship_payoff_balance_amount</th>\n",
       "      <th>hardship_last_payment_amount</th>\n",
       "      <th>disbursement_method</th>\n",
       "      <th>debt_settlement_flag</th>\n",
       "      <th>debt_settlement_flag_date</th>\n",
       "      <th>settlement_status</th>\n",
       "      <th>settlement_date</th>\n",
       "      <th>settlement_amount</th>\n",
       "      <th>settlement_percentage</th>\n",
       "      <th>settlement_term</th>\n",
       "    </tr>\n",
       "  </thead>\n",
       "  <tbody>\n",
       "    <tr>\n",
       "      <th>0</th>\n",
       "      <td>NaN</td>\n",
       "      <td>NaN</td>\n",
       "      <td>2500</td>\n",
       "      <td>2500</td>\n",
       "      <td>2500.0</td>\n",
       "      <td>36 months</td>\n",
       "      <td>13.56</td>\n",
       "      <td>84.92</td>\n",
       "      <td>C</td>\n",
       "      <td>C1</td>\n",
       "      <td>...</td>\n",
       "      <td>NaN</td>\n",
       "      <td>NaN</td>\n",
       "      <td>Cash</td>\n",
       "      <td>N</td>\n",
       "      <td>NaN</td>\n",
       "      <td>NaN</td>\n",
       "      <td>NaN</td>\n",
       "      <td>NaN</td>\n",
       "      <td>NaN</td>\n",
       "      <td>NaN</td>\n",
       "    </tr>\n",
       "    <tr>\n",
       "      <th>1</th>\n",
       "      <td>NaN</td>\n",
       "      <td>NaN</td>\n",
       "      <td>30000</td>\n",
       "      <td>30000</td>\n",
       "      <td>30000.0</td>\n",
       "      <td>60 months</td>\n",
       "      <td>18.94</td>\n",
       "      <td>777.23</td>\n",
       "      <td>D</td>\n",
       "      <td>D2</td>\n",
       "      <td>...</td>\n",
       "      <td>NaN</td>\n",
       "      <td>NaN</td>\n",
       "      <td>Cash</td>\n",
       "      <td>N</td>\n",
       "      <td>NaN</td>\n",
       "      <td>NaN</td>\n",
       "      <td>NaN</td>\n",
       "      <td>NaN</td>\n",
       "      <td>NaN</td>\n",
       "      <td>NaN</td>\n",
       "    </tr>\n",
       "    <tr>\n",
       "      <th>2</th>\n",
       "      <td>NaN</td>\n",
       "      <td>NaN</td>\n",
       "      <td>5000</td>\n",
       "      <td>5000</td>\n",
       "      <td>5000.0</td>\n",
       "      <td>36 months</td>\n",
       "      <td>17.97</td>\n",
       "      <td>180.69</td>\n",
       "      <td>D</td>\n",
       "      <td>D1</td>\n",
       "      <td>...</td>\n",
       "      <td>NaN</td>\n",
       "      <td>NaN</td>\n",
       "      <td>Cash</td>\n",
       "      <td>N</td>\n",
       "      <td>NaN</td>\n",
       "      <td>NaN</td>\n",
       "      <td>NaN</td>\n",
       "      <td>NaN</td>\n",
       "      <td>NaN</td>\n",
       "      <td>NaN</td>\n",
       "    </tr>\n",
       "    <tr>\n",
       "      <th>3</th>\n",
       "      <td>NaN</td>\n",
       "      <td>NaN</td>\n",
       "      <td>4000</td>\n",
       "      <td>4000</td>\n",
       "      <td>4000.0</td>\n",
       "      <td>36 months</td>\n",
       "      <td>18.94</td>\n",
       "      <td>146.51</td>\n",
       "      <td>D</td>\n",
       "      <td>D2</td>\n",
       "      <td>...</td>\n",
       "      <td>NaN</td>\n",
       "      <td>NaN</td>\n",
       "      <td>Cash</td>\n",
       "      <td>N</td>\n",
       "      <td>NaN</td>\n",
       "      <td>NaN</td>\n",
       "      <td>NaN</td>\n",
       "      <td>NaN</td>\n",
       "      <td>NaN</td>\n",
       "      <td>NaN</td>\n",
       "    </tr>\n",
       "    <tr>\n",
       "      <th>4</th>\n",
       "      <td>NaN</td>\n",
       "      <td>NaN</td>\n",
       "      <td>30000</td>\n",
       "      <td>30000</td>\n",
       "      <td>30000.0</td>\n",
       "      <td>60 months</td>\n",
       "      <td>16.14</td>\n",
       "      <td>731.78</td>\n",
       "      <td>C</td>\n",
       "      <td>C4</td>\n",
       "      <td>...</td>\n",
       "      <td>NaN</td>\n",
       "      <td>NaN</td>\n",
       "      <td>Cash</td>\n",
       "      <td>N</td>\n",
       "      <td>NaN</td>\n",
       "      <td>NaN</td>\n",
       "      <td>NaN</td>\n",
       "      <td>NaN</td>\n",
       "      <td>NaN</td>\n",
       "      <td>NaN</td>\n",
       "    </tr>\n",
       "  </tbody>\n",
       "</table>\n",
       "<p>5 rows × 145 columns</p>\n",
       "</div>"
      ],
      "text/plain": [
       "   id  member_id  loan_amnt  funded_amnt  funded_amnt_inv        term  \\\n",
       "0 NaN        NaN       2500         2500           2500.0   36 months   \n",
       "1 NaN        NaN      30000        30000          30000.0   60 months   \n",
       "2 NaN        NaN       5000         5000           5000.0   36 months   \n",
       "3 NaN        NaN       4000         4000           4000.0   36 months   \n",
       "4 NaN        NaN      30000        30000          30000.0   60 months   \n",
       "\n",
       "   int_rate  installment grade sub_grade  ... hardship_payoff_balance_amount  \\\n",
       "0     13.56        84.92     C        C1  ...                            NaN   \n",
       "1     18.94       777.23     D        D2  ...                            NaN   \n",
       "2     17.97       180.69     D        D1  ...                            NaN   \n",
       "3     18.94       146.51     D        D2  ...                            NaN   \n",
       "4     16.14       731.78     C        C4  ...                            NaN   \n",
       "\n",
       "  hardship_last_payment_amount disbursement_method  debt_settlement_flag  \\\n",
       "0                          NaN                Cash                     N   \n",
       "1                          NaN                Cash                     N   \n",
       "2                          NaN                Cash                     N   \n",
       "3                          NaN                Cash                     N   \n",
       "4                          NaN                Cash                     N   \n",
       "\n",
       "  debt_settlement_flag_date settlement_status settlement_date  \\\n",
       "0                       NaN               NaN             NaN   \n",
       "1                       NaN               NaN             NaN   \n",
       "2                       NaN               NaN             NaN   \n",
       "3                       NaN               NaN             NaN   \n",
       "4                       NaN               NaN             NaN   \n",
       "\n",
       "  settlement_amount  settlement_percentage settlement_term  \n",
       "0               NaN                    NaN             NaN  \n",
       "1               NaN                    NaN             NaN  \n",
       "2               NaN                    NaN             NaN  \n",
       "3               NaN                    NaN             NaN  \n",
       "4               NaN                    NaN             NaN  \n",
       "\n",
       "[5 rows x 145 columns]"
      ]
     },
     "execution_count": 2,
     "metadata": {},
     "output_type": "execute_result"
    }
   ],
   "source": [
    "df.head()"
   ]
  },
  {
   "cell_type": "code",
   "execution_count": 3,
   "metadata": {},
   "outputs": [
    {
     "data": {
      "text/plain": [
       "Index(['id', 'member_id', 'loan_amnt', 'funded_amnt', 'funded_amnt_inv',\n",
       "       'term', 'int_rate', 'installment', 'grade', 'sub_grade',\n",
       "       ...\n",
       "       'hardship_payoff_balance_amount', 'hardship_last_payment_amount',\n",
       "       'disbursement_method', 'debt_settlement_flag',\n",
       "       'debt_settlement_flag_date', 'settlement_status', 'settlement_date',\n",
       "       'settlement_amount', 'settlement_percentage', 'settlement_term'],\n",
       "      dtype='object', length=145)"
      ]
     },
     "execution_count": 3,
     "metadata": {},
     "output_type": "execute_result"
    }
   ],
   "source": [
    "df.columns"
   ]
  },
  {
   "cell_type": "code",
   "execution_count": 4,
   "metadata": {},
   "outputs": [
    {
     "data": {
      "text/plain": [
       "id                                                                NaN\n",
       "member_id                                                         NaN\n",
       "loan_amnt                                                       10000\n",
       "funded_amnt                                                     10000\n",
       "funded_amnt_inv                                                 10000\n",
       "term                                                        36 months\n",
       "int_rate                                                        13.56\n",
       "installment                                                    339.65\n",
       "grade                                                               C\n",
       "sub_grade                                                          C1\n",
       "emp_title                                                         NaN\n",
       "emp_length                                                   < 1 year\n",
       "home_ownership                                               MORTGAGE\n",
       "annual_inc                                                      65000\n",
       "verification_status                                      Not Verified\n",
       "issue_d                                                      Dec-2018\n",
       "loan_status                                                   Current\n",
       "pymnt_plan                                                          n\n",
       "url                                                               NaN\n",
       "desc                                                              NaN\n",
       "purpose                                                   credit_card\n",
       "title                                         Credit card refinancing\n",
       "zip_code                                                        937xx\n",
       "addr_state                                                         CA\n",
       "dti                                                             10.62\n",
       "delinq_2yrs                                                         0\n",
       "earliest_cr_line                                             Dec-2004\n",
       "inq_last_6mths                                                      1\n",
       "mths_since_last_delinq                                             30\n",
       "mths_since_last_record                                            100\n",
       "                                                       ...           \n",
       "sec_app_open_acc                                                  NaN\n",
       "sec_app_revol_util                                                NaN\n",
       "sec_app_open_act_il                                               NaN\n",
       "sec_app_num_rev_accts                                             NaN\n",
       "sec_app_chargeoff_within_12_mths                                  NaN\n",
       "sec_app_collections_12_mths_ex_med                                NaN\n",
       "sec_app_mths_since_last_major_derog                               NaN\n",
       "hardship_flag                                                       N\n",
       "hardship_type                                                     NaN\n",
       "hardship_reason                                                   NaN\n",
       "hardship_status                                                   NaN\n",
       "deferral_term                                                     NaN\n",
       "hardship_amount                                                   NaN\n",
       "hardship_start_date                                               NaN\n",
       "hardship_end_date                                                 NaN\n",
       "payment_plan_start_date                                           NaN\n",
       "hardship_length                                                   NaN\n",
       "hardship_dpd                                                      NaN\n",
       "hardship_loan_status                                              NaN\n",
       "orig_projected_additional_accrued_interest                        NaN\n",
       "hardship_payoff_balance_amount                                    NaN\n",
       "hardship_last_payment_amount                                      NaN\n",
       "disbursement_method                                              Cash\n",
       "debt_settlement_flag                                                N\n",
       "debt_settlement_flag_date                                         NaN\n",
       "settlement_status                                                 NaN\n",
       "settlement_date                                                   NaN\n",
       "settlement_amount                                                 NaN\n",
       "settlement_percentage                                             NaN\n",
       "settlement_term                                                   NaN\n",
       "Name: 20, Length: 145, dtype: object"
      ]
     },
     "execution_count": 4,
     "metadata": {},
     "output_type": "execute_result"
    }
   ],
   "source": [
    "df.iloc[20]"
   ]
  },
  {
   "cell_type": "markdown",
   "metadata": {},
   "source": [
    "As you can see there are lots of nan values and features in this data we don't need the nan values and some of the features can be unnecessary so first we need to see the number of nan values and get rid of them."
   ]
  },
  {
   "cell_type": "code",
   "execution_count": 5,
   "metadata": {},
   "outputs": [
    {
     "data": {
      "text/plain": [
       "id                                            2260668\n",
       "member_id                                     2260668\n",
       "loan_amnt                                           0\n",
       "funded_amnt                                         0\n",
       "funded_amnt_inv                                     0\n",
       "term                                                0\n",
       "int_rate                                            0\n",
       "installment                                         0\n",
       "grade                                               0\n",
       "sub_grade                                           0\n",
       "emp_title                                      166969\n",
       "emp_length                                     146907\n",
       "home_ownership                                      0\n",
       "annual_inc                                          4\n",
       "verification_status                                 0\n",
       "issue_d                                             0\n",
       "loan_status                                         0\n",
       "pymnt_plan                                          0\n",
       "url                                           2260668\n",
       "desc                                          2134601\n",
       "purpose                                             0\n",
       "title                                           23325\n",
       "zip_code                                            1\n",
       "addr_state                                          0\n",
       "dti                                              1711\n",
       "delinq_2yrs                                        29\n",
       "earliest_cr_line                                   29\n",
       "inq_last_6mths                                     30\n",
       "mths_since_last_delinq                        1158502\n",
       "mths_since_last_record                        1901512\n",
       "                                               ...   \n",
       "sec_app_open_acc                              2152647\n",
       "sec_app_revol_util                            2154484\n",
       "sec_app_open_act_il                           2152647\n",
       "sec_app_num_rev_accts                         2152647\n",
       "sec_app_chargeoff_within_12_mths              2152647\n",
       "sec_app_collections_12_mths_ex_med            2152647\n",
       "sec_app_mths_since_last_major_derog           2224726\n",
       "hardship_flag                                       0\n",
       "hardship_type                                 2250055\n",
       "hardship_reason                               2250055\n",
       "hardship_status                               2250055\n",
       "deferral_term                                 2250055\n",
       "hardship_amount                               2250055\n",
       "hardship_start_date                           2250055\n",
       "hardship_end_date                             2250055\n",
       "payment_plan_start_date                       2250055\n",
       "hardship_length                               2250055\n",
       "hardship_dpd                                  2250055\n",
       "hardship_loan_status                          2250055\n",
       "orig_projected_additional_accrued_interest    2252242\n",
       "hardship_payoff_balance_amount                2250055\n",
       "hardship_last_payment_amount                  2250055\n",
       "disbursement_method                                 0\n",
       "debt_settlement_flag                                0\n",
       "debt_settlement_flag_date                     2227612\n",
       "settlement_status                             2227612\n",
       "settlement_date                               2227612\n",
       "settlement_amount                             2227612\n",
       "settlement_percentage                         2227612\n",
       "settlement_term                               2227612\n",
       "Length: 145, dtype: int64"
      ]
     },
     "execution_count": 5,
     "metadata": {},
     "output_type": "execute_result"
    }
   ],
   "source": [
    "df.isnull().sum()"
   ]
  },
  {
   "cell_type": "code",
   "execution_count": 6,
   "metadata": {},
   "outputs": [
    {
     "data": {
      "text/plain": [
       "(2260668, 145)"
      ]
     },
     "execution_count": 6,
     "metadata": {},
     "output_type": "execute_result"
    }
   ],
   "source": [
    "df.shape"
   ]
  },
  {
   "cell_type": "markdown",
   "metadata": {},
   "source": [
    "As you can see in the above there are millions of nan values in the data so we are going to delete columns that has nan values more than \"668\"."
   ]
  },
  {
   "cell_type": "code",
   "execution_count": 7,
   "metadata": {},
   "outputs": [],
   "source": [
    "df=df.dropna(axis=1, thresh=2260000)"
   ]
  },
  {
   "cell_type": "code",
   "execution_count": 8,
   "metadata": {},
   "outputs": [
    {
     "data": {
      "text/plain": [
       "(2260668, 46)"
      ]
     },
     "execution_count": 8,
     "metadata": {},
     "output_type": "execute_result"
    }
   ],
   "source": [
    "df.shape"
   ]
  },
  {
   "cell_type": "code",
   "execution_count": 9,
   "metadata": {},
   "outputs": [
    {
     "data": {
      "text/plain": [
       "loan_amnt                       0\n",
       "funded_amnt                     0\n",
       "funded_amnt_inv                 0\n",
       "term                            0\n",
       "int_rate                        0\n",
       "installment                     0\n",
       "grade                           0\n",
       "sub_grade                       0\n",
       "home_ownership                  0\n",
       "annual_inc                      4\n",
       "verification_status             0\n",
       "issue_d                         0\n",
       "loan_status                     0\n",
       "pymnt_plan                      0\n",
       "purpose                         0\n",
       "zip_code                        1\n",
       "addr_state                      0\n",
       "delinq_2yrs                    29\n",
       "earliest_cr_line               29\n",
       "inq_last_6mths                 30\n",
       "open_acc                       29\n",
       "pub_rec                        29\n",
       "revol_bal                       0\n",
       "total_acc                      29\n",
       "initial_list_status             0\n",
       "out_prncp                       0\n",
       "out_prncp_inv                   0\n",
       "total_pymnt                     0\n",
       "total_pymnt_inv                 0\n",
       "total_rec_prncp                 0\n",
       "total_rec_int                   0\n",
       "total_rec_late_fee              0\n",
       "recoveries                      0\n",
       "collection_recovery_fee         0\n",
       "last_pymnt_amnt                 0\n",
       "last_credit_pull_d             73\n",
       "collections_12_mths_ex_med    145\n",
       "policy_code                     0\n",
       "application_type                0\n",
       "acc_now_delinq                 29\n",
       "chargeoff_within_12_mths      145\n",
       "delinq_amnt                    29\n",
       "tax_liens                     105\n",
       "hardship_flag                   0\n",
       "disbursement_method             0\n",
       "debt_settlement_flag            0\n",
       "dtype: int64"
      ]
     },
     "execution_count": 9,
     "metadata": {},
     "output_type": "execute_result"
    }
   ],
   "source": [
    "df.isnull().sum()"
   ]
  },
  {
   "cell_type": "markdown",
   "metadata": {},
   "source": [
    "As we drop the columns that have too much nan values we still have some nan values but this time we are not going to drop columns because it can harm our features and predictions instead we are just going to drop rows that has nan values."
   ]
  },
  {
   "cell_type": "code",
   "execution_count": 10,
   "metadata": {},
   "outputs": [],
   "source": [
    "df=df.dropna(axis=0, how=\"any\")"
   ]
  },
  {
   "cell_type": "code",
   "execution_count": 11,
   "metadata": {},
   "outputs": [
    {
     "data": {
      "text/plain": [
       "loan_amnt                     0\n",
       "funded_amnt                   0\n",
       "funded_amnt_inv               0\n",
       "term                          0\n",
       "int_rate                      0\n",
       "installment                   0\n",
       "grade                         0\n",
       "sub_grade                     0\n",
       "home_ownership                0\n",
       "annual_inc                    0\n",
       "verification_status           0\n",
       "issue_d                       0\n",
       "loan_status                   0\n",
       "pymnt_plan                    0\n",
       "purpose                       0\n",
       "zip_code                      0\n",
       "addr_state                    0\n",
       "delinq_2yrs                   0\n",
       "earliest_cr_line              0\n",
       "inq_last_6mths                0\n",
       "open_acc                      0\n",
       "pub_rec                       0\n",
       "revol_bal                     0\n",
       "total_acc                     0\n",
       "initial_list_status           0\n",
       "out_prncp                     0\n",
       "out_prncp_inv                 0\n",
       "total_pymnt                   0\n",
       "total_pymnt_inv               0\n",
       "total_rec_prncp               0\n",
       "total_rec_int                 0\n",
       "total_rec_late_fee            0\n",
       "recoveries                    0\n",
       "collection_recovery_fee       0\n",
       "last_pymnt_amnt               0\n",
       "last_credit_pull_d            0\n",
       "collections_12_mths_ex_med    0\n",
       "policy_code                   0\n",
       "application_type              0\n",
       "acc_now_delinq                0\n",
       "chargeoff_within_12_mths      0\n",
       "delinq_amnt                   0\n",
       "tax_liens                     0\n",
       "hardship_flag                 0\n",
       "disbursement_method           0\n",
       "debt_settlement_flag          0\n",
       "dtype: int64"
      ]
     },
     "execution_count": 11,
     "metadata": {},
     "output_type": "execute_result"
    }
   ],
   "source": [
    "df.isnull().sum()"
   ]
  },
  {
   "cell_type": "code",
   "execution_count": 12,
   "metadata": {},
   "outputs": [
    {
     "data": {
      "text/plain": [
       "(2260450, 46)"
      ]
     },
     "execution_count": 12,
     "metadata": {},
     "output_type": "execute_result"
    }
   ],
   "source": [
    "df.shape"
   ]
  },
  {
   "cell_type": "markdown",
   "metadata": {},
   "source": [
    "As you can see now our data is clean and smaller in size now we will examine the dataset again."
   ]
  },
  {
   "cell_type": "code",
   "execution_count": 13,
   "metadata": {},
   "outputs": [
    {
     "data": {
      "text/plain": [
       "loan_amnt                            10000\n",
       "funded_amnt                          10000\n",
       "funded_amnt_inv                      10000\n",
       "term                             36 months\n",
       "int_rate                             13.56\n",
       "installment                         339.65\n",
       "grade                                    C\n",
       "sub_grade                               C1\n",
       "home_ownership                    MORTGAGE\n",
       "annual_inc                           65000\n",
       "verification_status           Not Verified\n",
       "issue_d                           Dec-2018\n",
       "loan_status                        Current\n",
       "pymnt_plan                               n\n",
       "purpose                        credit_card\n",
       "zip_code                             937xx\n",
       "addr_state                              CA\n",
       "delinq_2yrs                              0\n",
       "earliest_cr_line                  Dec-2004\n",
       "inq_last_6mths                           1\n",
       "open_acc                                14\n",
       "pub_rec                                  1\n",
       "revol_bal                             9765\n",
       "total_acc                               28\n",
       "initial_list_status                      w\n",
       "out_prncp                          9544.14\n",
       "out_prncp_inv                      9544.14\n",
       "total_pymnt                            668\n",
       "total_pymnt_inv                        668\n",
       "total_rec_prncp                     455.86\n",
       "total_rec_int                       212.14\n",
       "total_rec_late_fee                       0\n",
       "recoveries                               0\n",
       "collection_recovery_fee                  0\n",
       "last_pymnt_amnt                     339.65\n",
       "last_credit_pull_d                Feb-2019\n",
       "collections_12_mths_ex_med               0\n",
       "policy_code                              1\n",
       "application_type                Individual\n",
       "acc_now_delinq                           0\n",
       "chargeoff_within_12_mths                 0\n",
       "delinq_amnt                              0\n",
       "tax_liens                                0\n",
       "hardship_flag                            N\n",
       "disbursement_method                   Cash\n",
       "debt_settlement_flag                     N\n",
       "Name: 20, dtype: object"
      ]
     },
     "execution_count": 13,
     "metadata": {},
     "output_type": "execute_result"
    }
   ],
   "source": [
    "df.iloc[20]"
   ]
  },
  {
   "cell_type": "code",
   "execution_count": 14,
   "metadata": {},
   "outputs": [
    {
     "data": {
      "text/plain": [
       "loan_amnt                             9600\n",
       "funded_amnt                           9600\n",
       "funded_amnt_inv                       9600\n",
       "term                             36 months\n",
       "int_rate                              23.4\n",
       "installment                         373.62\n",
       "grade                                    E\n",
       "sub_grade                               E1\n",
       "home_ownership                        RENT\n",
       "annual_inc                           65000\n",
       "verification_status           Not Verified\n",
       "issue_d                           Dec-2018\n",
       "loan_status                        Current\n",
       "pymnt_plan                               n\n",
       "purpose                        credit_card\n",
       "zip_code                             265xx\n",
       "addr_state                              WV\n",
       "delinq_2yrs                              1\n",
       "earliest_cr_line                  Sep-2003\n",
       "inq_last_6mths                           0\n",
       "open_acc                                12\n",
       "pub_rec                                  0\n",
       "revol_bal                            10678\n",
       "total_acc                               20\n",
       "initial_list_status                      f\n",
       "out_prncp                          9223.52\n",
       "out_prncp_inv                      9223.52\n",
       "total_pymnt                         728.52\n",
       "total_pymnt_inv                     728.52\n",
       "total_rec_prncp                     376.48\n",
       "total_rec_int                       352.04\n",
       "total_rec_late_fee                       0\n",
       "recoveries                               0\n",
       "collection_recovery_fee                  0\n",
       "last_pymnt_amnt                     373.62\n",
       "last_credit_pull_d                Feb-2019\n",
       "collections_12_mths_ex_med               0\n",
       "policy_code                              1\n",
       "application_type                Individual\n",
       "acc_now_delinq                           0\n",
       "chargeoff_within_12_mths                 0\n",
       "delinq_amnt                              0\n",
       "tax_liens                                0\n",
       "hardship_flag                            N\n",
       "disbursement_method                   Cash\n",
       "debt_settlement_flag                     N\n",
       "Name: 22, dtype: object"
      ]
     },
     "execution_count": 14,
     "metadata": {},
     "output_type": "execute_result"
    }
   ],
   "source": [
    "df.iloc[22]"
   ]
  },
  {
   "cell_type": "markdown",
   "metadata": {},
   "source": [
    "When we examine the data we see that there are lots of features which recorded as strings but because we are going to use machine techniques we need to transform them into numerical values(for algorithms to run more efficiently).Also we are going to change date values which are strings to datetime because it make it easier to use dates."
   ]
  },
  {
   "cell_type": "code",
   "execution_count": 15,
   "metadata": {},
   "outputs": [
    {
     "data": {
      "text/plain": [
       "array(['Feb-2019', 'Jan-2019', 'Dec-2018', 'Nov-2018', 'Oct-2018',\n",
       "       'Sep-2018', 'Aug-2018', 'Jul-2018', 'Jun-2018', 'May-2018',\n",
       "       'Apr-2018', 'Mar-2018', 'Feb-2018', 'Jan-2018', 'Dec-2017',\n",
       "       'Nov-2017', 'Aug-2017', 'Jul-2017', 'Jun-2017', 'Mar-2017',\n",
       "       'Sep-2016', 'May-2017', 'Sep-2017', 'Jan-2017', 'Oct-2017',\n",
       "       'Feb-2017', 'Oct-2016', 'Apr-2017', 'Dec-2016', 'Nov-2016',\n",
       "       'Aug-2016', 'Jul-2016', 'Jun-2016', 'May-2016', 'Apr-2016',\n",
       "       'Mar-2016', 'Mar-2019', 'Feb-2016', 'Jan-2016', 'Dec-2015',\n",
       "       'Nov-2015', 'Oct-2015', 'Sep-2015', 'Aug-2015', 'Jul-2015',\n",
       "       'Jun-2015', 'May-2015', 'Apr-2015', 'Mar-2015', 'Feb-2015',\n",
       "       'Jan-2015', 'Dec-2014', 'Aug-2014', 'Mar-2014', 'Sep-2014',\n",
       "       'May-2014', 'Jan-2014', 'Jul-2014', 'Feb-2014', 'Nov-2014',\n",
       "       'Jun-2014', 'Oct-2014', 'Apr-2014', 'Nov-2013', 'Dec-2013',\n",
       "       'Oct-2013', 'Sep-2013', 'Aug-2013', 'Jun-2013', 'Jul-2013',\n",
       "       'May-2013', 'Apr-2013', 'Mar-2013', 'Jan-2013', 'Dec-2012',\n",
       "       'Feb-2013', 'Nov-2012', 'Oct-2012', 'Sep-2012', 'Aug-2012',\n",
       "       'Jun-2012', 'Jul-2012', 'May-2012', 'Apr-2012', 'Feb-2012',\n",
       "       'Mar-2012', 'Jan-2012', 'Nov-2011', 'Dec-2011', 'Oct-2011',\n",
       "       'Sep-2011', 'Aug-2011', 'Jul-2011', 'Jun-2011', 'May-2011',\n",
       "       'Apr-2011', 'Mar-2011', 'Feb-2011', 'Jan-2011', 'Dec-2010',\n",
       "       'Nov-2010', 'Oct-2010', 'Sep-2010', 'Aug-2010', 'Jul-2010',\n",
       "       'Jun-2010', 'May-2010', 'Apr-2010', 'Mar-2010', 'Feb-2010',\n",
       "       'Aug-2007', 'Jan-2010', 'Dec-2009', 'Nov-2009', 'Oct-2009',\n",
       "       'Sep-2009', 'Jul-2009', 'Aug-2009', 'May-2009', 'Jun-2009',\n",
       "       'Apr-2009', 'Mar-2009', 'Feb-2009', 'Dec-2008', 'Jan-2009',\n",
       "       'Jun-2008', 'Sep-2008', 'Aug-2008', 'Mar-2008', 'Oct-2008',\n",
       "       'Feb-2008', 'Jan-2008', 'Dec-2007', 'Jul-2008', 'Oct-2007',\n",
       "       'Sep-2007', 'Nov-2007'], dtype=object)"
      ]
     },
     "execution_count": 15,
     "metadata": {},
     "output_type": "execute_result"
    }
   ],
   "source": [
    "df[\"last_credit_pull_d\"].unique()"
   ]
  },
  {
   "cell_type": "code",
   "execution_count": 16,
   "metadata": {},
   "outputs": [],
   "source": [
    "def to_date(sacma):\n",
    "        k=sacma.replace('-', '.')\n",
    "        k=k.replace('Jan', '01') \n",
    "        k=k.replace('Feb', '02')\n",
    "        k=k.replace('Mar', '03')\n",
    "        k=k.replace('Apr', '04')\n",
    "        k=k.replace('May', '05')\n",
    "        k=k.replace('Jun', '06')\n",
    "        k=k.replace('Jul', '07')\n",
    "        k=k.replace('Aug', '08')\n",
    "        k=k.replace('Sep', '09')\n",
    "        k=k.replace('Oct', '10')\n",
    "        k=k.replace('Nov', '11')\n",
    "        k=k.replace('Dec', '12')\n",
    "        obj = datetime.strptime(k, '%m.%Y')\n",
    "    \n",
    "        return obj\n",
    "\n",
    "df[\"last_credit_pull_d\"] = df[\"last_credit_pull_d\"].apply(to_date)\n",
    "     "
   ]
  },
  {
   "cell_type": "code",
   "execution_count": 17,
   "metadata": {},
   "outputs": [
    {
     "data": {
      "text/plain": [
       "array(['2019-02-01T00:00:00.000000000', '2019-01-01T00:00:00.000000000',\n",
       "       '2018-12-01T00:00:00.000000000', '2018-11-01T00:00:00.000000000',\n",
       "       '2018-10-01T00:00:00.000000000', '2018-09-01T00:00:00.000000000',\n",
       "       '2018-08-01T00:00:00.000000000', '2018-07-01T00:00:00.000000000',\n",
       "       '2018-06-01T00:00:00.000000000', '2018-05-01T00:00:00.000000000',\n",
       "       '2018-04-01T00:00:00.000000000', '2018-03-01T00:00:00.000000000',\n",
       "       '2018-02-01T00:00:00.000000000', '2018-01-01T00:00:00.000000000',\n",
       "       '2017-12-01T00:00:00.000000000', '2017-11-01T00:00:00.000000000',\n",
       "       '2017-08-01T00:00:00.000000000', '2017-07-01T00:00:00.000000000',\n",
       "       '2017-06-01T00:00:00.000000000', '2017-03-01T00:00:00.000000000',\n",
       "       '2016-09-01T00:00:00.000000000', '2017-05-01T00:00:00.000000000',\n",
       "       '2017-09-01T00:00:00.000000000', '2017-01-01T00:00:00.000000000',\n",
       "       '2017-10-01T00:00:00.000000000', '2017-02-01T00:00:00.000000000',\n",
       "       '2016-10-01T00:00:00.000000000', '2017-04-01T00:00:00.000000000',\n",
       "       '2016-12-01T00:00:00.000000000', '2016-11-01T00:00:00.000000000',\n",
       "       '2016-08-01T00:00:00.000000000', '2016-07-01T00:00:00.000000000',\n",
       "       '2016-06-01T00:00:00.000000000', '2016-05-01T00:00:00.000000000',\n",
       "       '2016-04-01T00:00:00.000000000', '2016-03-01T00:00:00.000000000',\n",
       "       '2019-03-01T00:00:00.000000000', '2016-02-01T00:00:00.000000000',\n",
       "       '2016-01-01T00:00:00.000000000', '2015-12-01T00:00:00.000000000',\n",
       "       '2015-11-01T00:00:00.000000000', '2015-10-01T00:00:00.000000000',\n",
       "       '2015-09-01T00:00:00.000000000', '2015-08-01T00:00:00.000000000',\n",
       "       '2015-07-01T00:00:00.000000000', '2015-06-01T00:00:00.000000000',\n",
       "       '2015-05-01T00:00:00.000000000', '2015-04-01T00:00:00.000000000',\n",
       "       '2015-03-01T00:00:00.000000000', '2015-02-01T00:00:00.000000000',\n",
       "       '2015-01-01T00:00:00.000000000', '2014-12-01T00:00:00.000000000',\n",
       "       '2014-08-01T00:00:00.000000000', '2014-03-01T00:00:00.000000000',\n",
       "       '2014-09-01T00:00:00.000000000', '2014-05-01T00:00:00.000000000',\n",
       "       '2014-01-01T00:00:00.000000000', '2014-07-01T00:00:00.000000000',\n",
       "       '2014-02-01T00:00:00.000000000', '2014-11-01T00:00:00.000000000',\n",
       "       '2014-06-01T00:00:00.000000000', '2014-10-01T00:00:00.000000000',\n",
       "       '2014-04-01T00:00:00.000000000', '2013-11-01T00:00:00.000000000',\n",
       "       '2013-12-01T00:00:00.000000000', '2013-10-01T00:00:00.000000000',\n",
       "       '2013-09-01T00:00:00.000000000', '2013-08-01T00:00:00.000000000',\n",
       "       '2013-06-01T00:00:00.000000000', '2013-07-01T00:00:00.000000000',\n",
       "       '2013-05-01T00:00:00.000000000', '2013-04-01T00:00:00.000000000',\n",
       "       '2013-03-01T00:00:00.000000000', '2013-01-01T00:00:00.000000000',\n",
       "       '2012-12-01T00:00:00.000000000', '2013-02-01T00:00:00.000000000',\n",
       "       '2012-11-01T00:00:00.000000000', '2012-10-01T00:00:00.000000000',\n",
       "       '2012-09-01T00:00:00.000000000', '2012-08-01T00:00:00.000000000',\n",
       "       '2012-06-01T00:00:00.000000000', '2012-07-01T00:00:00.000000000',\n",
       "       '2012-05-01T00:00:00.000000000', '2012-04-01T00:00:00.000000000',\n",
       "       '2012-02-01T00:00:00.000000000', '2012-03-01T00:00:00.000000000',\n",
       "       '2012-01-01T00:00:00.000000000', '2011-11-01T00:00:00.000000000',\n",
       "       '2011-12-01T00:00:00.000000000', '2011-10-01T00:00:00.000000000',\n",
       "       '2011-09-01T00:00:00.000000000', '2011-08-01T00:00:00.000000000',\n",
       "       '2011-07-01T00:00:00.000000000', '2011-06-01T00:00:00.000000000',\n",
       "       '2011-05-01T00:00:00.000000000', '2011-04-01T00:00:00.000000000',\n",
       "       '2011-03-01T00:00:00.000000000', '2011-02-01T00:00:00.000000000',\n",
       "       '2011-01-01T00:00:00.000000000', '2010-12-01T00:00:00.000000000',\n",
       "       '2010-11-01T00:00:00.000000000', '2010-10-01T00:00:00.000000000',\n",
       "       '2010-09-01T00:00:00.000000000', '2010-08-01T00:00:00.000000000',\n",
       "       '2010-07-01T00:00:00.000000000', '2010-06-01T00:00:00.000000000',\n",
       "       '2010-05-01T00:00:00.000000000', '2010-04-01T00:00:00.000000000',\n",
       "       '2010-03-01T00:00:00.000000000', '2010-02-01T00:00:00.000000000',\n",
       "       '2007-08-01T00:00:00.000000000', '2010-01-01T00:00:00.000000000',\n",
       "       '2009-12-01T00:00:00.000000000', '2009-11-01T00:00:00.000000000',\n",
       "       '2009-10-01T00:00:00.000000000', '2009-09-01T00:00:00.000000000',\n",
       "       '2009-07-01T00:00:00.000000000', '2009-08-01T00:00:00.000000000',\n",
       "       '2009-05-01T00:00:00.000000000', '2009-06-01T00:00:00.000000000',\n",
       "       '2009-04-01T00:00:00.000000000', '2009-03-01T00:00:00.000000000',\n",
       "       '2009-02-01T00:00:00.000000000', '2008-12-01T00:00:00.000000000',\n",
       "       '2009-01-01T00:00:00.000000000', '2008-06-01T00:00:00.000000000',\n",
       "       '2008-09-01T00:00:00.000000000', '2008-08-01T00:00:00.000000000',\n",
       "       '2008-03-01T00:00:00.000000000', '2008-10-01T00:00:00.000000000',\n",
       "       '2008-02-01T00:00:00.000000000', '2008-01-01T00:00:00.000000000',\n",
       "       '2007-12-01T00:00:00.000000000', '2008-07-01T00:00:00.000000000',\n",
       "       '2007-10-01T00:00:00.000000000', '2007-09-01T00:00:00.000000000',\n",
       "       '2007-11-01T00:00:00.000000000'], dtype='datetime64[ns]')"
      ]
     },
     "execution_count": 17,
     "metadata": {},
     "output_type": "execute_result"
    }
   ],
   "source": [
    "df[\"last_credit_pull_d\"].unique()"
   ]
  },
  {
   "cell_type": "markdown",
   "metadata": {},
   "source": [
    "In the above cells we transform string dates to datetime dates by converting string to datetime."
   ]
  },
  {
   "cell_type": "code",
   "execution_count": 18,
   "metadata": {},
   "outputs": [],
   "source": [
    "def to_months(term):\n",
    "    term=int(term[:3])\n",
    "    return term\n",
    "df[\"term\"]=df[\"term\"].apply(to_months)"
   ]
  },
  {
   "cell_type": "code",
   "execution_count": 19,
   "metadata": {},
   "outputs": [
    {
     "data": {
      "text/plain": [
       "0          36\n",
       "1          60\n",
       "2          36\n",
       "3          36\n",
       "4          60\n",
       "5          36\n",
       "6          36\n",
       "7          36\n",
       "8          36\n",
       "9          36\n",
       "10         36\n",
       "11         60\n",
       "12         36\n",
       "13         36\n",
       "14         60\n",
       "15         36\n",
       "16         36\n",
       "17         60\n",
       "18         60\n",
       "19         60\n",
       "20         36\n",
       "21         36\n",
       "22         36\n",
       "23         36\n",
       "24         60\n",
       "25         60\n",
       "26         36\n",
       "27         60\n",
       "28         36\n",
       "29         60\n",
       "           ..\n",
       "2260638    36\n",
       "2260639    36\n",
       "2260640    60\n",
       "2260641    60\n",
       "2260642    36\n",
       "2260643    36\n",
       "2260644    60\n",
       "2260645    36\n",
       "2260646    60\n",
       "2260647    36\n",
       "2260648    60\n",
       "2260649    36\n",
       "2260650    60\n",
       "2260651    60\n",
       "2260652    60\n",
       "2260653    36\n",
       "2260654    60\n",
       "2260655    60\n",
       "2260656    60\n",
       "2260657    60\n",
       "2260658    60\n",
       "2260659    36\n",
       "2260660    36\n",
       "2260661    60\n",
       "2260662    60\n",
       "2260663    60\n",
       "2260664    60\n",
       "2260665    36\n",
       "2260666    60\n",
       "2260667    60\n",
       "Name: term, Length: 2260450, dtype: int64"
      ]
     },
     "execution_count": 19,
     "metadata": {},
     "output_type": "execute_result"
    }
   ],
   "source": [
    "df[\"term\"]"
   ]
  },
  {
   "cell_type": "markdown",
   "metadata": {},
   "source": [
    "In the cells above we change the \"term\" value which is in string type to integer type by manipulating it via our function."
   ]
  },
  {
   "cell_type": "code",
   "execution_count": 20,
   "metadata": {},
   "outputs": [
    {
     "data": {
      "text/plain": [
       "loan_amnt                                    9600\n",
       "funded_amnt                                  9600\n",
       "funded_amnt_inv                              9600\n",
       "term                                           36\n",
       "int_rate                                     23.4\n",
       "installment                                373.62\n",
       "grade                                           E\n",
       "sub_grade                                      E1\n",
       "home_ownership                               RENT\n",
       "annual_inc                                  65000\n",
       "verification_status                  Not Verified\n",
       "issue_d                                  Dec-2018\n",
       "loan_status                               Current\n",
       "pymnt_plan                                      n\n",
       "purpose                               credit_card\n",
       "zip_code                                    265xx\n",
       "addr_state                                     WV\n",
       "delinq_2yrs                                     1\n",
       "earliest_cr_line                         Sep-2003\n",
       "inq_last_6mths                                  0\n",
       "open_acc                                       12\n",
       "pub_rec                                         0\n",
       "revol_bal                                   10678\n",
       "total_acc                                      20\n",
       "initial_list_status                             f\n",
       "out_prncp                                 9223.52\n",
       "out_prncp_inv                             9223.52\n",
       "total_pymnt                                728.52\n",
       "total_pymnt_inv                            728.52\n",
       "total_rec_prncp                            376.48\n",
       "total_rec_int                              352.04\n",
       "total_rec_late_fee                              0\n",
       "recoveries                                      0\n",
       "collection_recovery_fee                         0\n",
       "last_pymnt_amnt                            373.62\n",
       "last_credit_pull_d            2019-02-01 00:00:00\n",
       "collections_12_mths_ex_med                      0\n",
       "policy_code                                     1\n",
       "application_type                       Individual\n",
       "acc_now_delinq                                  0\n",
       "chargeoff_within_12_mths                        0\n",
       "delinq_amnt                                     0\n",
       "tax_liens                                       0\n",
       "hardship_flag                                   N\n",
       "disbursement_method                          Cash\n",
       "debt_settlement_flag                            N\n",
       "Name: 22, dtype: object"
      ]
     },
     "execution_count": 20,
     "metadata": {},
     "output_type": "execute_result"
    }
   ],
   "source": [
    "df.iloc[22]"
   ]
  },
  {
   "cell_type": "markdown",
   "metadata": {},
   "source": [
    "In the below cells we are numerating the string values to use machine learning better and we did it by mapping strategy.This means that we give each unique string of every column a numerical value(ex:1,2,...)"
   ]
  },
  {
   "cell_type": "code",
   "execution_count": 21,
   "metadata": {},
   "outputs": [
    {
     "data": {
      "text/plain": [
       "array(['RENT', 'MORTGAGE', 'OWN', 'ANY', 'NONE', 'OTHER'], dtype=object)"
      ]
     },
     "execution_count": 21,
     "metadata": {},
     "output_type": "execute_result"
    }
   ],
   "source": [
    "df[\"home_ownership\"].unique()"
   ]
  },
  {
   "cell_type": "code",
   "execution_count": 22,
   "metadata": {},
   "outputs": [],
   "source": [
    "df['home_ownership'] = df['home_ownership'].map({'RENT':1, 'MORTGAGE':0, \"OWN\":2, \"ANY\":3, \"NONE\":4, \"OTHER\":5})"
   ]
  },
  {
   "cell_type": "code",
   "execution_count": 23,
   "metadata": {},
   "outputs": [
    {
     "data": {
      "text/plain": [
       "array(['Not Verified', 'Source Verified', 'Verified'], dtype=object)"
      ]
     },
     "execution_count": 23,
     "metadata": {},
     "output_type": "execute_result"
    }
   ],
   "source": [
    "df[\"verification_status\"].unique()"
   ]
  },
  {
   "cell_type": "code",
   "execution_count": 24,
   "metadata": {},
   "outputs": [],
   "source": [
    "df[\"verification_status\"] = df[\"verification_status\"].map({'Not Verified':1, 'Source Verified':0, \"Verified\":2})"
   ]
  },
  {
   "cell_type": "code",
   "execution_count": 25,
   "metadata": {},
   "outputs": [
    {
     "data": {
      "text/plain": [
       "array(['Current', 'Fully Paid', 'Late (31-120 days)', 'In Grace Period',\n",
       "       'Charged Off', 'Late (16-30 days)', 'Default',\n",
       "       'Does not meet the credit policy. Status:Fully Paid',\n",
       "       'Does not meet the credit policy. Status:Charged Off'],\n",
       "      dtype=object)"
      ]
     },
     "execution_count": 25,
     "metadata": {},
     "output_type": "execute_result"
    }
   ],
   "source": [
    "df[\"loan_status\"].unique()"
   ]
  },
  {
   "cell_type": "code",
   "execution_count": 26,
   "metadata": {},
   "outputs": [],
   "source": [
    "df['loan_status'] = df['loan_status'].map({'Current':1, 'Fully Paid':0, \"Late (31-120 days)\":2, \"In Grace Period\":3, \"Charged Off\":4, \"Late (16-30 days)\":5,\"Default\":6,'Does not meet the credit policy. Status:Fully Paid':7,'Does not meet the credit policy. Status:Charged Off':8 })"
   ]
  },
  {
   "cell_type": "code",
   "execution_count": 27,
   "metadata": {},
   "outputs": [
    {
     "data": {
      "text/plain": [
       "array(['n', 'y'], dtype=object)"
      ]
     },
     "execution_count": 27,
     "metadata": {},
     "output_type": "execute_result"
    }
   ],
   "source": [
    "df[\"pymnt_plan\"].unique()"
   ]
  },
  {
   "cell_type": "code",
   "execution_count": 28,
   "metadata": {},
   "outputs": [],
   "source": [
    "df[\"pymnt_plan\"]=df[\"pymnt_plan\"].map({\"n\":0 , \"y\":1})"
   ]
  },
  {
   "cell_type": "code",
   "execution_count": 29,
   "metadata": {},
   "outputs": [
    {
     "data": {
      "text/plain": [
       "array(['debt_consolidation', 'credit_card', 'house', 'car', 'other',\n",
       "       'vacation', 'home_improvement', 'small_business', 'major_purchase',\n",
       "       'medical', 'renewable_energy', 'moving', 'wedding', 'educational'],\n",
       "      dtype=object)"
      ]
     },
     "execution_count": 29,
     "metadata": {},
     "output_type": "execute_result"
    }
   ],
   "source": [
    "df[\"purpose\"].unique()\n"
   ]
  },
  {
   "cell_type": "code",
   "execution_count": 30,
   "metadata": {},
   "outputs": [],
   "source": [
    "df[\"purpose\"] = df[\"purpose\"].map({'debt_consolidation':1, 'credit_card':0, \"house\":2, \"car\":3, \"other\":4, \"vacation\":5,\"home_improvement\":6,'small_business':7,'major_purchase':8,\"medical\":9, \"renewable_energy\":10,\"moving\":11,\"wedding\":12,\"educational\":13 })"
   ]
  },
  {
   "cell_type": "code",
   "execution_count": 31,
   "metadata": {},
   "outputs": [
    {
     "data": {
      "text/plain": [
       "'109'"
      ]
     },
     "execution_count": 31,
     "metadata": {},
     "output_type": "execute_result"
    }
   ],
   "source": [
    "holy=df[\"zip_code\"][0]\n",
    "type(holy)\n",
    "holy[:3]"
   ]
  },
  {
   "cell_type": "code",
   "execution_count": 32,
   "metadata": {},
   "outputs": [],
   "source": [
    "def give_zip(zipp):\n",
    "    zipp=int(zipp[:3])\n",
    "    \n",
    "    return zipp\n",
    "\n",
    "df[\"zip_code\"]=df[\"zip_code\"].apply(give_zip)"
   ]
  },
  {
   "cell_type": "code",
   "execution_count": 33,
   "metadata": {},
   "outputs": [],
   "source": [
    "del df['addr_state']"
   ]
  },
  {
   "cell_type": "code",
   "execution_count": 34,
   "metadata": {},
   "outputs": [
    {
     "data": {
      "text/plain": [
       "loan_amnt                                    9600\n",
       "funded_amnt                                  9600\n",
       "funded_amnt_inv                              9600\n",
       "term                                           36\n",
       "int_rate                                     23.4\n",
       "installment                                373.62\n",
       "grade                                           E\n",
       "sub_grade                                      E1\n",
       "home_ownership                                  1\n",
       "annual_inc                                  65000\n",
       "verification_status                             1\n",
       "issue_d                                  Dec-2018\n",
       "loan_status                                     1\n",
       "pymnt_plan                                      0\n",
       "purpose                                         0\n",
       "zip_code                                      265\n",
       "delinq_2yrs                                     1\n",
       "earliest_cr_line                         Sep-2003\n",
       "inq_last_6mths                                  0\n",
       "open_acc                                       12\n",
       "pub_rec                                         0\n",
       "revol_bal                                   10678\n",
       "total_acc                                      20\n",
       "initial_list_status                             f\n",
       "out_prncp                                 9223.52\n",
       "out_prncp_inv                             9223.52\n",
       "total_pymnt                                728.52\n",
       "total_pymnt_inv                            728.52\n",
       "total_rec_prncp                            376.48\n",
       "total_rec_int                              352.04\n",
       "total_rec_late_fee                              0\n",
       "recoveries                                      0\n",
       "collection_recovery_fee                         0\n",
       "last_pymnt_amnt                            373.62\n",
       "last_credit_pull_d            2019-02-01 00:00:00\n",
       "collections_12_mths_ex_med                      0\n",
       "policy_code                                     1\n",
       "application_type                       Individual\n",
       "acc_now_delinq                                  0\n",
       "chargeoff_within_12_mths                        0\n",
       "delinq_amnt                                     0\n",
       "tax_liens                                       0\n",
       "hardship_flag                                   N\n",
       "disbursement_method                          Cash\n",
       "debt_settlement_flag                            N\n",
       "Name: 22, dtype: object"
      ]
     },
     "execution_count": 34,
     "metadata": {},
     "output_type": "execute_result"
    }
   ],
   "source": [
    "df.iloc[22]"
   ]
  },
  {
   "cell_type": "code",
   "execution_count": 35,
   "metadata": {},
   "outputs": [],
   "source": [
    "df[\"issue_d\"] = df[\"issue_d\"].apply(to_date)\n",
    "df[\"earliest_cr_line\"] = df[\"earliest_cr_line\"].apply(to_date)"
   ]
  },
  {
   "cell_type": "code",
   "execution_count": 36,
   "metadata": {},
   "outputs": [
    {
     "data": {
      "text/plain": [
       "array(['w', 'f'], dtype=object)"
      ]
     },
     "execution_count": 36,
     "metadata": {},
     "output_type": "execute_result"
    }
   ],
   "source": [
    "df[\"initial_list_status\"].unique()"
   ]
  },
  {
   "cell_type": "code",
   "execution_count": 37,
   "metadata": {},
   "outputs": [],
   "source": [
    "df[\"initial_list_status\"]=df[\"initial_list_status\"].map({\"w\":0 , \"f\":1})"
   ]
  },
  {
   "cell_type": "code",
   "execution_count": 38,
   "metadata": {},
   "outputs": [
    {
     "data": {
      "text/plain": [
       "array(['Individual', 'Joint App'], dtype=object)"
      ]
     },
     "execution_count": 38,
     "metadata": {},
     "output_type": "execute_result"
    }
   ],
   "source": [
    "df[\"application_type\"].unique()"
   ]
  },
  {
   "cell_type": "code",
   "execution_count": 39,
   "metadata": {},
   "outputs": [],
   "source": [
    "df[\"application_type\"]=df[\"application_type\"].map({\"Individual\":0 , \"Joint App\":1})"
   ]
  },
  {
   "cell_type": "code",
   "execution_count": 40,
   "metadata": {},
   "outputs": [
    {
     "data": {
      "text/plain": [
       "array(['N', 'Y'], dtype=object)"
      ]
     },
     "execution_count": 40,
     "metadata": {},
     "output_type": "execute_result"
    }
   ],
   "source": [
    "df[\"debt_settlement_flag\"].unique()"
   ]
  },
  {
   "cell_type": "code",
   "execution_count": 41,
   "metadata": {},
   "outputs": [],
   "source": [
    "df[\"hardship_flag\"]=df[\"hardship_flag\"].map({\"N\":0 , \"Y\":1})"
   ]
  },
  {
   "cell_type": "code",
   "execution_count": 42,
   "metadata": {},
   "outputs": [],
   "source": [
    "df[\"debt_settlement_flag\"]=df[\"debt_settlement_flag\"].map({\"N\":0 , \"Y\":1})"
   ]
  },
  {
   "cell_type": "code",
   "execution_count": 43,
   "metadata": {},
   "outputs": [
    {
     "data": {
      "text/plain": [
       "array(['Cash', 'DirectPay'], dtype=object)"
      ]
     },
     "execution_count": 43,
     "metadata": {},
     "output_type": "execute_result"
    }
   ],
   "source": [
    "df[\"disbursement_method\"].unique()"
   ]
  },
  {
   "cell_type": "code",
   "execution_count": 44,
   "metadata": {},
   "outputs": [],
   "source": [
    "df[\"disbursement_method\"]=df[\"disbursement_method\"].map({'Cash':0 , 'DirectPay':1})"
   ]
  },
  {
   "cell_type": "code",
   "execution_count": 45,
   "metadata": {},
   "outputs": [],
   "source": [
    "def gradetonum(subg):\n",
    "    if subg==\"A1\":\n",
    "        return 30\n",
    "    elif subg==\"A2\":\n",
    "        return 29\n",
    "    elif subg==\"A3\":\n",
    "        return 28\n",
    "    elif subg==\"A4\":\n",
    "        return 27\n",
    "    elif subg==\"A5\":\n",
    "        return 26\n",
    "    elif subg==\"B1\":\n",
    "        return 25\n",
    "    elif subg==\"B2\":\n",
    "        return 24\n",
    "    elif subg==\"B3\":\n",
    "        return 23\n",
    "    elif subg==\"B4\":\n",
    "        return 22\n",
    "    elif subg==\"B5\":\n",
    "        return 21\n",
    "    elif subg==\"C1\":\n",
    "        return 20\n",
    "    elif subg==\"C2\":\n",
    "        return 19\n",
    "    elif subg==\"C3\":\n",
    "        return 18\n",
    "    elif subg==\"C4\":\n",
    "        return 17\n",
    "    elif subg==\"C5\":\n",
    "        return 16\n",
    "    elif subg==\"D1\":\n",
    "        return 15\n",
    "    elif subg==\"D2\":\n",
    "        return 14\n",
    "    elif subg==\"D3\":\n",
    "        return 13\n",
    "    elif subg==\"D4\":\n",
    "        return 12\n",
    "    elif subg==\"D5\":\n",
    "        return 11\n",
    "    elif subg==\"E1\":\n",
    "        return 10\n",
    "    elif subg==\"E2\":\n",
    "        return 9\n",
    "    elif subg==\"E3\":\n",
    "        return 8\n",
    "    elif subg==\"E4\":\n",
    "        return 7\n",
    "    elif subg==\"E5\":\n",
    "        return 6\n",
    "    elif subg==\"F1\":\n",
    "        return 5\n",
    "    elif subg==\"F2\":\n",
    "        return 4\n",
    "    elif subg==\"F3\":\n",
    "        return 3\n",
    "    elif subg==\"F4\":\n",
    "        return 2\n",
    "    elif subg==\"F5\":\n",
    "        return 1\n",
    "   \n",
    "\n",
    "df[\"sub_grade\"] = df[\"sub_grade\"].apply(gradetonum)"
   ]
  },
  {
   "cell_type": "code",
   "execution_count": 46,
   "metadata": {},
   "outputs": [],
   "source": [
    "del df['grade']"
   ]
  },
  {
   "cell_type": "code",
   "execution_count": 47,
   "metadata": {},
   "outputs": [
    {
     "data": {
      "text/plain": [
       "loan_amnt                                    9600\n",
       "funded_amnt                                  9600\n",
       "funded_amnt_inv                              9600\n",
       "term                                           36\n",
       "int_rate                                     23.4\n",
       "installment                                373.62\n",
       "sub_grade                                      10\n",
       "home_ownership                                  1\n",
       "annual_inc                                  65000\n",
       "verification_status                             1\n",
       "issue_d                       2018-12-01 00:00:00\n",
       "loan_status                                     1\n",
       "pymnt_plan                                      0\n",
       "purpose                                         0\n",
       "zip_code                                      265\n",
       "delinq_2yrs                                     1\n",
       "earliest_cr_line              2003-09-01 00:00:00\n",
       "inq_last_6mths                                  0\n",
       "open_acc                                       12\n",
       "pub_rec                                         0\n",
       "revol_bal                                   10678\n",
       "total_acc                                      20\n",
       "initial_list_status                             1\n",
       "out_prncp                                 9223.52\n",
       "out_prncp_inv                             9223.52\n",
       "total_pymnt                                728.52\n",
       "total_pymnt_inv                            728.52\n",
       "total_rec_prncp                            376.48\n",
       "total_rec_int                              352.04\n",
       "total_rec_late_fee                              0\n",
       "recoveries                                      0\n",
       "collection_recovery_fee                         0\n",
       "last_pymnt_amnt                            373.62\n",
       "last_credit_pull_d            2019-02-01 00:00:00\n",
       "collections_12_mths_ex_med                      0\n",
       "policy_code                                     1\n",
       "application_type                                0\n",
       "acc_now_delinq                                  0\n",
       "chargeoff_within_12_mths                        0\n",
       "delinq_amnt                                     0\n",
       "tax_liens                                       0\n",
       "hardship_flag                                   0\n",
       "disbursement_method                             0\n",
       "debt_settlement_flag                            0\n",
       "Name: 22, dtype: object"
      ]
     },
     "execution_count": 47,
     "metadata": {},
     "output_type": "execute_result"
    }
   ],
   "source": [
    "df.iloc[22]"
   ]
  },
  {
   "cell_type": "code",
   "execution_count": 48,
   "metadata": {},
   "outputs": [
    {
     "data": {
      "text/plain": [
       "loan_amnt                              int64\n",
       "funded_amnt                            int64\n",
       "funded_amnt_inv                      float64\n",
       "term                                   int64\n",
       "int_rate                             float64\n",
       "installment                          float64\n",
       "sub_grade                            float64\n",
       "home_ownership                         int64\n",
       "annual_inc                           float64\n",
       "verification_status                    int64\n",
       "issue_d                       datetime64[ns]\n",
       "loan_status                            int64\n",
       "pymnt_plan                             int64\n",
       "purpose                                int64\n",
       "zip_code                               int64\n",
       "delinq_2yrs                          float64\n",
       "earliest_cr_line              datetime64[ns]\n",
       "inq_last_6mths                       float64\n",
       "open_acc                             float64\n",
       "pub_rec                              float64\n",
       "revol_bal                              int64\n",
       "total_acc                            float64\n",
       "initial_list_status                    int64\n",
       "out_prncp                            float64\n",
       "out_prncp_inv                        float64\n",
       "total_pymnt                          float64\n",
       "total_pymnt_inv                      float64\n",
       "total_rec_prncp                      float64\n",
       "total_rec_int                        float64\n",
       "total_rec_late_fee                   float64\n",
       "recoveries                           float64\n",
       "collection_recovery_fee              float64\n",
       "last_pymnt_amnt                      float64\n",
       "last_credit_pull_d            datetime64[ns]\n",
       "collections_12_mths_ex_med           float64\n",
       "policy_code                            int64\n",
       "application_type                       int64\n",
       "acc_now_delinq                       float64\n",
       "chargeoff_within_12_mths             float64\n",
       "delinq_amnt                          float64\n",
       "tax_liens                            float64\n",
       "hardship_flag                          int64\n",
       "disbursement_method                    int64\n",
       "debt_settlement_flag                   int64\n",
       "dtype: object"
      ]
     },
     "execution_count": 48,
     "metadata": {},
     "output_type": "execute_result"
    }
   ],
   "source": [
    "df.dtypes"
   ]
  },
  {
   "cell_type": "code",
   "execution_count": 49,
   "metadata": {},
   "outputs": [
    {
     "data": {
      "text/plain": [
       "loan_amnt                         0\n",
       "funded_amnt                       0\n",
       "funded_amnt_inv                   0\n",
       "term                              0\n",
       "int_rate                          0\n",
       "installment                       0\n",
       "sub_grade                     12161\n",
       "home_ownership                    0\n",
       "annual_inc                        0\n",
       "verification_status               0\n",
       "issue_d                           0\n",
       "loan_status                       0\n",
       "pymnt_plan                        0\n",
       "purpose                           0\n",
       "zip_code                          0\n",
       "delinq_2yrs                       0\n",
       "earliest_cr_line                  0\n",
       "inq_last_6mths                    0\n",
       "open_acc                          0\n",
       "pub_rec                           0\n",
       "revol_bal                         0\n",
       "total_acc                         0\n",
       "initial_list_status               0\n",
       "out_prncp                         0\n",
       "out_prncp_inv                     0\n",
       "total_pymnt                       0\n",
       "total_pymnt_inv                   0\n",
       "total_rec_prncp                   0\n",
       "total_rec_int                     0\n",
       "total_rec_late_fee                0\n",
       "recoveries                        0\n",
       "collection_recovery_fee           0\n",
       "last_pymnt_amnt                   0\n",
       "last_credit_pull_d                0\n",
       "collections_12_mths_ex_med        0\n",
       "policy_code                       0\n",
       "application_type                  0\n",
       "acc_now_delinq                    0\n",
       "chargeoff_within_12_mths          0\n",
       "delinq_amnt                       0\n",
       "tax_liens                         0\n",
       "hardship_flag                     0\n",
       "disbursement_method               0\n",
       "debt_settlement_flag              0\n",
       "dtype: int64"
      ]
     },
     "execution_count": 49,
     "metadata": {},
     "output_type": "execute_result"
    }
   ],
   "source": [
    "df.isnull().sum()"
   ]
  },
  {
   "cell_type": "code",
   "execution_count": 50,
   "metadata": {},
   "outputs": [
    {
     "data": {
      "text/plain": [
       "(2260450, 44)"
      ]
     },
     "execution_count": 50,
     "metadata": {},
     "output_type": "execute_result"
    }
   ],
   "source": [
    "df.shape"
   ]
  },
  {
   "cell_type": "code",
   "execution_count": 51,
   "metadata": {},
   "outputs": [],
   "source": [
    "df=df.dropna(axis=0, how=\"any\")"
   ]
  },
  {
   "cell_type": "code",
   "execution_count": 52,
   "metadata": {},
   "outputs": [
    {
     "data": {
      "text/plain": [
       "loan_amnt                     0\n",
       "funded_amnt                   0\n",
       "funded_amnt_inv               0\n",
       "term                          0\n",
       "int_rate                      0\n",
       "installment                   0\n",
       "sub_grade                     0\n",
       "home_ownership                0\n",
       "annual_inc                    0\n",
       "verification_status           0\n",
       "issue_d                       0\n",
       "loan_status                   0\n",
       "pymnt_plan                    0\n",
       "purpose                       0\n",
       "zip_code                      0\n",
       "delinq_2yrs                   0\n",
       "earliest_cr_line              0\n",
       "inq_last_6mths                0\n",
       "open_acc                      0\n",
       "pub_rec                       0\n",
       "revol_bal                     0\n",
       "total_acc                     0\n",
       "initial_list_status           0\n",
       "out_prncp                     0\n",
       "out_prncp_inv                 0\n",
       "total_pymnt                   0\n",
       "total_pymnt_inv               0\n",
       "total_rec_prncp               0\n",
       "total_rec_int                 0\n",
       "total_rec_late_fee            0\n",
       "recoveries                    0\n",
       "collection_recovery_fee       0\n",
       "last_pymnt_amnt               0\n",
       "last_credit_pull_d            0\n",
       "collections_12_mths_ex_med    0\n",
       "policy_code                   0\n",
       "application_type              0\n",
       "acc_now_delinq                0\n",
       "chargeoff_within_12_mths      0\n",
       "delinq_amnt                   0\n",
       "tax_liens                     0\n",
       "hardship_flag                 0\n",
       "disbursement_method           0\n",
       "debt_settlement_flag          0\n",
       "dtype: int64"
      ]
     },
     "execution_count": 52,
     "metadata": {},
     "output_type": "execute_result"
    }
   ],
   "source": [
    "df.isnull().sum()"
   ]
  },
  {
   "cell_type": "code",
   "execution_count": 53,
   "metadata": {},
   "outputs": [
    {
     "data": {
      "text/plain": [
       "(2248289, 44)"
      ]
     },
     "execution_count": 53,
     "metadata": {},
     "output_type": "execute_result"
    }
   ],
   "source": [
    "df.shape"
   ]
  },
  {
   "cell_type": "markdown",
   "metadata": {},
   "source": [
    "# Machine Learning - Random Forest"
   ]
  },
  {
   "cell_type": "code",
   "execution_count": 54,
   "metadata": {},
   "outputs": [],
   "source": [
    "from sklearn.model_selection import train_test_split\n",
    "\n",
    "X=df.drop(['sub_grade',\"last_credit_pull_d\",\"earliest_cr_line\",\"issue_d\"], axis=1)\n",
    "\n",
    "y = df.iloc[:, df.columns == 'sub_grade']\n",
    "\n",
    "\n",
    "X_train, X_test, y_train, y_test = train_test_split(X, y, test_size= 0.25, random_state = 42)"
   ]
  },
  {
   "cell_type": "code",
   "execution_count": 55,
   "metadata": {},
   "outputs": [],
   "source": [
    "from sklearn.ensemble import RandomForestClassifier\n",
    "rf  = RandomForestClassifier(random_state = 42)"
   ]
  },
  {
   "cell_type": "code",
   "execution_count": 56,
   "metadata": {},
   "outputs": [
    {
     "data": {
      "text/plain": [
       "RandomForestClassifier(bootstrap=True, class_weight=None, criterion='gini',\n",
       "            max_depth=None, max_features='auto', max_leaf_nodes=None,\n",
       "            min_impurity_decrease=0.0, min_impurity_split=None,\n",
       "            min_samples_leaf=1, min_samples_split=2,\n",
       "            min_weight_fraction_leaf=0.0, n_estimators=10, n_jobs=None,\n",
       "            oob_score=False, random_state=42, verbose=0, warm_start=False)"
      ]
     },
     "execution_count": 56,
     "metadata": {},
     "output_type": "execute_result"
    }
   ],
   "source": [
    "rf.fit(X_train, y_train)"
   ]
  },
  {
   "cell_type": "code",
   "execution_count": 57,
   "metadata": {},
   "outputs": [],
   "source": [
    "pred_rf = rf.predict(X_test)"
   ]
  },
  {
   "cell_type": "code",
   "execution_count": 58,
   "metadata": {},
   "outputs": [
    {
     "name": "stdout",
     "output_type": "stream",
     "text": [
      "Accuracy of the random forest model:  0.7713001691951046\n"
     ]
    }
   ],
   "source": [
    "from sklearn import metrics\n",
    "\n",
    "print(\"Accuracy of the random forest model: \",metrics.accuracy_score(y_test, pred_rf))"
   ]
  },
  {
   "cell_type": "code",
   "execution_count": 59,
   "metadata": {},
   "outputs": [
    {
     "data": {
      "text/plain": [
       "array([2.10911118e-02, 2.10826271e-02, 2.33018104e-02, 4.09813596e-03,\n",
       "       3.98388285e-01, 7.52704406e-02, 8.45751633e-03, 2.76064071e-02,\n",
       "       8.37068539e-03, 3.76964195e-03, 1.48582743e-05, 9.41182037e-03,\n",
       "       2.81331424e-02, 6.38694967e-03, 8.93576919e-03, 2.24915521e-02,\n",
       "       4.88550793e-03, 2.90298542e-02, 2.53581886e-02, 6.33627862e-03,\n",
       "       1.53704042e-02, 1.49249259e-02, 3.80048676e-02, 3.68725148e-02,\n",
       "       3.39675373e-02, 5.71015649e-02, 2.26683603e-03, 4.08631674e-03,\n",
       "       3.89852656e-03, 5.43920335e-02, 8.57845157e-04, 0.00000000e+00,\n",
       "       1.29083306e-03, 2.38707269e-04, 4.62125058e-04, 2.04805901e-04,\n",
       "       1.36905449e-03, 1.81065837e-05, 1.70181994e-03, 5.50591938e-04])"
      ]
     },
     "execution_count": 59,
     "metadata": {},
     "output_type": "execute_result"
    }
   ],
   "source": [
    "rf.feature_importances_"
   ]
  },
  {
   "cell_type": "code",
   "execution_count": 60,
   "metadata": {},
   "outputs": [
    {
     "data": {
      "image/png": "[encoded data removed]",
      "text/plain": [
       "<Figure size 864x864 with 1 Axes>"
      ]
     },
     "metadata": {
      "needs_background": "light"
     },
     "output_type": "display_data"
    }
   ],
   "source": [
    "feature_importances = pd.Series(rf.feature_importances_, index=X.columns).sort_values(ascending=False)\n",
    "\n",
    "plt.figure(figsize=(12, 12))\n",
    "sns.barplot(x=feature_importances, y=feature_importances.index)\n",
    "\n",
    " \n",
    "plt.xlabel('Feature Importance Score')\n",
    "plt.ylabel('Features')\n",
    "plt.title(\"Feature Importance Rankings\")\n",
    "plt.show()"
   ]
  },
  {
   "cell_type": "markdown",
   "metadata": {},
   "source": [
    "# k-NN"
   ]
  },
  {
   "cell_type": "code",
   "execution_count": 1,
   "metadata": {
    "scrolled": true
   },
   "outputs": [
    {
     "ename": "NameError",
     "evalue": "name 'df' is not defined",
     "output_type": "error",
     "traceback": [
      "\u001b[1;31m---------------------------------------------------------------------------\u001b[0m",
      "\u001b[1;31mNameError\u001b[0m                                 Traceback (most recent call last)",
      "\u001b[1;32m<ipython-input-1-551bfe48f8da>\u001b[0m in \u001b[0;36m<module>\u001b[1;34m\u001b[0m\n\u001b[0;32m      1\u001b[0m \u001b[1;33m\u001b[0m\u001b[0m\n\u001b[0;32m      2\u001b[0m \u001b[1;33m\u001b[0m\u001b[0m\n\u001b[1;32m----> 3\u001b[1;33m \u001b[0mX\u001b[0m\u001b[1;33m=\u001b[0m\u001b[0mdf\u001b[0m\u001b[1;33m.\u001b[0m\u001b[0mdrop\u001b[0m\u001b[1;33m(\u001b[0m\u001b[1;33m[\u001b[0m\u001b[1;34m'sub_grade'\u001b[0m\u001b[1;33m,\u001b[0m\u001b[1;34m\"last_credit_pull_d\"\u001b[0m\u001b[1;33m,\u001b[0m\u001b[1;34m\"earliest_cr_line\"\u001b[0m\u001b[1;33m,\u001b[0m\u001b[1;34m\"issue_d\"\u001b[0m\u001b[1;33m]\u001b[0m\u001b[1;33m,\u001b[0m \u001b[0maxis\u001b[0m\u001b[1;33m=\u001b[0m\u001b[1;36m1\u001b[0m\u001b[1;33m)\u001b[0m\u001b[1;33m\u001b[0m\u001b[1;33m\u001b[0m\u001b[0m\n\u001b[0m\u001b[0;32m      4\u001b[0m \u001b[0my\u001b[0m \u001b[1;33m=\u001b[0m \u001b[0mdf\u001b[0m\u001b[1;33m.\u001b[0m\u001b[0miloc\u001b[0m\u001b[1;33m[\u001b[0m\u001b[1;33m:\u001b[0m\u001b[1;33m,\u001b[0m \u001b[0mdf\u001b[0m\u001b[1;33m.\u001b[0m\u001b[0mcolumns\u001b[0m \u001b[1;33m==\u001b[0m \u001b[1;34m'sub_grade'\u001b[0m\u001b[1;33m]\u001b[0m\u001b[1;33m\u001b[0m\u001b[1;33m\u001b[0m\u001b[0m\n\u001b[0;32m      5\u001b[0m \u001b[0mX\u001b[0m\u001b[1;33m=\u001b[0m\u001b[0mX\u001b[0m\u001b[1;33m[\u001b[0m\u001b[1;33m:\u001b[0m\u001b[1;33m:\u001b[0m\u001b[1;36m20\u001b[0m\u001b[1;33m]\u001b[0m\u001b[1;33m\u001b[0m\u001b[1;33m\u001b[0m\u001b[0m\n",
      "\u001b[1;31mNameError\u001b[0m: name 'df' is not defined"
     ]
    }
   ],
   "source": [
    "\n",
    "\n",
    "X=df.drop(['sub_grade',\"last_credit_pull_d\",\"earliest_cr_line\",\"issue_d\"], axis=1)\n",
    "y = df.iloc[:, df.columns == 'sub_grade']\n",
    "X=X[::20]\n",
    "y=y[::20]  #if we take all of the data, it takes so musch time to process\n",
    "\n",
    "\n",
    "\n",
    "\n",
    "X_train, X_test, y_train, y_test = train_test_split(X, y, test_size= 0.25, random_state = 42)"
   ]
  },
  {
   "cell_type": "code",
   "execution_count": 2,
   "metadata": {},
   "outputs": [
    {
     "ename": "NameError",
     "evalue": "name 'X_train' is not defined",
     "output_type": "error",
     "traceback": [
      "\u001b[1;31m---------------------------------------------------------------------------\u001b[0m",
      "\u001b[1;31mNameError\u001b[0m                                 Traceback (most recent call last)",
      "\u001b[1;32m<ipython-input-2-21b9d73bdd31>\u001b[0m in \u001b[0;36m<module>\u001b[1;34m\u001b[0m\n\u001b[0;32m      3\u001b[0m \u001b[1;33m\u001b[0m\u001b[0m\n\u001b[0;32m      4\u001b[0m \u001b[0mknn\u001b[0m \u001b[1;33m=\u001b[0m \u001b[0mKNeighborsClassifier\u001b[0m\u001b[1;33m(\u001b[0m\u001b[0mn_neighbors\u001b[0m\u001b[1;33m=\u001b[0m\u001b[1;36m5\u001b[0m\u001b[1;33m)\u001b[0m\u001b[1;33m\u001b[0m\u001b[1;33m\u001b[0m\u001b[0m\n\u001b[1;32m----> 5\u001b[1;33m \u001b[0mknn\u001b[0m\u001b[1;33m.\u001b[0m\u001b[0mfit\u001b[0m\u001b[1;33m(\u001b[0m\u001b[0mX_train\u001b[0m\u001b[1;33m,\u001b[0m \u001b[0my_train\u001b[0m\u001b[1;33m)\u001b[0m\u001b[1;33m\u001b[0m\u001b[1;33m\u001b[0m\u001b[0m\n\u001b[0m",
      "\u001b[1;31mNameError\u001b[0m: name 'X_train' is not defined"
     ]
    }
   ],
   "source": [
    "from sklearn.neighbors import KNeighborsClassifier\n",
    "\n",
    "\n",
    "knn = KNeighborsClassifier(n_neighbors=5)\n",
    "knn.fit(X_train, y_train)"
   ]
  },
  {
   "cell_type": "code",
   "execution_count": 66,
   "metadata": {},
   "outputs": [],
   "source": [
    "y_pred = knn.predict(X_test)"
   ]
  },
  {
   "cell_type": "code",
   "execution_count": 67,
   "metadata": {},
   "outputs": [
    {
     "name": "stdout",
     "output_type": "stream",
     "text": [
      "Accuracy of the model with k = 5 : 0.05846142897808141\n"
     ]
    }
   ],
   "source": [
    "from sklearn import metrics\n",
    "\n",
    "print(\"Accuracy of the model with k = 5 :\",metrics.accuracy_score(y_test, y_pred))"
   ]
  },
  {
   "cell_type": "code",
   "execution_count": 68,
   "metadata": {},
   "outputs": [
    {
     "name": "stdout",
     "output_type": "stream",
     "text": [
      "Accuracy of the model with k = 7 : 0.06397665812695702\n"
     ]
    }
   ],
   "source": [
    "knn_7 = KNeighborsClassifier(n_neighbors=7)\n",
    "knn_7.fit(X_train, y_train)\n",
    "\n",
    "y_pred_7 = knn_7.predict(X_test)\n",
    "print(\"Accuracy of the model with k = 7 :\",metrics.accuracy_score(y_test, y_pred_7))"
   ]
  },
  {
   "cell_type": "code",
   "execution_count": 69,
   "metadata": {},
   "outputs": [],
   "source": [
    "accuracy_list = []\n",
    "for k in range (1, 25):\n",
    "    knn = KNeighborsClassifier(n_neighbors = k)\n",
    "    knn.fit(X_train, y_train)\n",
    "    y_pred = knn.predict(X_test)\n",
    "    accuracy_list.append(metrics.accuracy_score(y_test, y_pred))"
   ]
  },
  {
   "cell_type": "code",
   "execution_count": 70,
   "metadata": {},
   "outputs": [
    {
     "data": {
      "image/png": "[encoded data removed]",
      "text/plain": [
       "<Figure size 864x432 with 1 Axes>"
      ]
     },
     "metadata": {
      "needs_background": "light"
     },
     "output_type": "display_data"
    }
   ],
   "source": [
    "plt.figure(figsize=(12, 6))  \n",
    "plt.plot(range(1, 25), accuracy_list, color='black', linestyle='dashed', marker='o',  \n",
    "         markerfacecolor='red', markersize=10)\n",
    "plt.title('Accuracy of the Model w/ k-Value')  \n",
    "plt.xlabel('k-Value')  \n",
    "plt.ylabel('Accuracy') \n",
    "plt.show()"
   ]
  },
  {
   "cell_type": "markdown",
   "metadata": {},
   "source": []
  }
 ],
 "metadata": {
  "kernelspec": {
   "display_name": "Python 3",
   "language": "python",
   "name": "python3"
  },
  "language_info": {
   "codemirror_mode": {
    "name": "ipython",
    "version": 3
   },
   "file_extension": ".py",
   "mimetype": "text/x-python",
   "name": "python",
   "nbconvert_exporter": "python",
   "pygments_lexer": "ipython3",
   "version": "3.7.1"
  }
 },
 "nbformat": 4,
 "nbformat_minor": 2
}
